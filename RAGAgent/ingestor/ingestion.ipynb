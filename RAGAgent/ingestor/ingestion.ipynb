{
 "cells": [
  {
   "cell_type": "markdown",
   "metadata": {},
   "source": [
    "**Pinecone**"
   ]
  },
  {
   "cell_type": "code",
   "execution_count": null,
   "metadata": {},
   "outputs": [],
   "source": [
    "from langchain_community.document_loaders import PyPDFLoader\n",
    "from langchain_text_splitters import CharacterTextSplitter\n",
    "# from langchain_openai import OpenAIEmbeddings, OpenAI\n",
    "from langchain_groq import ChatGroq\n",
    "from langchain.embeddings import SentenceTransformerEmbeddings\n",
    "from langchain_pinecone import PineconeVectorStore\n",
    "from langchain.chains.retrieval import create_retrieval_chain\n",
    "from langchain.chains.combine_documents import create_stuff_documents_chain\n",
    "from langchain import hub\n",
    "\n",
    "\n",
    "#########\n",
    "### WRITE\n",
    "#########\n",
    "import os\n",
    "os.environ[\"PINECONE_API_KEY\"] = pinecone_api_key\n",
    "\n",
    "pdf_path = \"https://rauterberg.employee.id.tue.nl/lecturenotes/DDM110%20CAS/Orwell-1949%201984.pdf\"\n",
    "loader = PyPDFLoader(file_path=pdf_path)\n",
    "documents = loader.load()\n",
    "text_splitter = CharacterTextSplitter(\n",
    "    chunk_size=1000, chunk_overlap=30, separator=\"\\n\"\n",
    ")\n",
    "docs = text_splitter.split_documents(documents=documents)\n",
    "\n",
    "# embedding = OpenAIEmbeddings()\n",
    "embedding = SentenceTransformerEmbeddings(model_name=\"sentence-transformers/all-MiniLM-L6-v2\")\n",
    "vector_store = PineconeVectorStore.from_documents(docs, embedding, index_name=\"orwell-1984\")\n",
    "# vector_store.add_documents(docs)"
   ]
  },
  {
   "cell_type": "code",
   "execution_count": null,
   "metadata": {},
   "outputs": [],
   "source": [
    "#########\n",
    "### READ\n",
    "#########\n",
    "from langchain.embeddings import SentenceTransformerEmbeddings\n",
    "from langchain_pinecone import PineconeVectorStore"
   ]
  },
  {
   "cell_type": "code",
   "execution_count": null,
   "metadata": {},
   "outputs": [],
   "source": [
    "embedding = SentenceTransformerEmbeddings(model_name=\"sentence-transformers/all-MiniLM-L6-v2\")\n",
    "new_vectorstore = PineconeVectorStore(embedding=embedding, index_name=\"orwell-1984\")\n",
    "# new_vectorstore.as_retriever().get_relevant_documents(\"Who does O'Brien represent as a historical figure? In the context of the 20th century? what about the 21st century?\")"
   ]
  },
  {
   "cell_type": "code",
   "execution_count": null,
   "metadata": {},
   "outputs": [],
   "source": [
    "from langchain_groq import ChatGroq\n",
    "from langchain.chains.retrieval import create_retrieval_chain\n",
    "from langchain.chains.combine_documents import create_stuff_documents_chain\n",
    "from langchain import hub"
   ]
  },
  {
   "cell_type": "code",
   "execution_count": null,
   "metadata": {},
   "outputs": [],
   "source": [
    "retrieval_qa_chat_prompt = hub.pull(\"langchain-ai/retrieval-qa-chat\")\n",
    "llm = ChatGroq(temperature=0, groq_api_key=api_key, model_name=\"deepseek-r1-distill-llama-70b\")"
   ]
  },
  {
   "cell_type": "code",
   "execution_count": null,
   "metadata": {},
   "outputs": [],
   "source": [
    "combine_docs_chain = create_stuff_documents_chain(\n",
    "    llm, retrieval_qa_chat_prompt\n",
    ")\n",
    "chain = create_retrieval_chain(\n",
    "    new_vectorstore.as_retriever(), combine_docs_chain\n",
    ")\n",
    "res = chain.invoke({\"input\": \"Who does O'Brien represent as a historical figure? In the context of the 20th century? what about the 21st century?\"})\n",
    "\n",
    "\n",
    "res['answer']"
   ]
  },
  {
   "cell_type": "code",
   "execution_count": 11,
   "metadata": {},
   "outputs": [
    {
     "data": {
      "text/plain": [
       "['/usr/local/python/3.12.1/lib/python312.zip',\n",
       " '/usr/local/python/3.12.1/lib/python3.12',\n",
       " '/usr/local/python/3.12.1/lib/python3.12/lib-dynload',\n",
       " '',\n",
       " '/home/codespace/.local/lib/python3.12/site-packages',\n",
       " '/usr/local/python/3.12.1/lib/python3.12/site-packages']"
      ]
     },
     "execution_count": 11,
     "metadata": {},
     "output_type": "execute_result"
    }
   ],
   "source": [
    "import sys\n",
    "sys.path"
   ]
  },
  {
   "cell_type": "code",
   "execution_count": 12,
   "metadata": {},
   "outputs": [
    {
     "data": {
      "text/plain": [
       "['/usr/local/python/3.12.1/lib/python312.zip',\n",
       " '/usr/local/python/3.12.1/lib/python3.12',\n",
       " '/usr/local/python/3.12.1/lib/python3.12/lib-dynload',\n",
       " '',\n",
       " '/home/codespace/.local/lib/python3.12/site-packages',\n",
       " '/usr/local/python/3.12.1/lib/python3.12/site-packages',\n",
       " '/workspaces/agents/RAGAgent']"
      ]
     },
     "execution_count": 12,
     "metadata": {},
     "output_type": "execute_result"
    }
   ],
   "source": [
    "import sys\n",
    "RAGAgents = '/workspaces/agents/RAGAgent'\n",
    "sys.path.append(RAGAgents)\n",
    "sys.path"
   ]
  },
  {
   "cell_type": "code",
   "execution_count": null,
   "metadata": {},
   "outputs": [],
   "source": []
  }
 ],
 "metadata": {
  "kernelspec": {
   "display_name": "Python 3",
   "language": "python",
   "name": "python3"
  },
  "language_info": {
   "codemirror_mode": {
    "name": "ipython",
    "version": 3
   },
   "file_extension": ".py",
   "mimetype": "text/x-python",
   "name": "python",
   "nbconvert_exporter": "python",
   "pygments_lexer": "ipython3",
   "version": "3.12.1"
  }
 },
 "nbformat": 4,
 "nbformat_minor": 2
}
