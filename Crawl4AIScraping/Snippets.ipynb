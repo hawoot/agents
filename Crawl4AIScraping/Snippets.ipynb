{
 "cells": [
  {
   "cell_type": "markdown",
   "metadata": {},
   "source": [
    "# Single Page"
   ]
  },
  {
   "cell_type": "code",
   "execution_count": null,
   "metadata": {},
   "outputs": [],
   "source": [
    "import asyncio\n",
    "from crawl4ai import *\n",
    "\n",
    "async def main():\n",
    "    async with AsyncWebCrawler() as crawler:\n",
    "        result = await crawler.arun(\n",
    "            url=\"https://www.nbcnews.com/business\",\n",
    "        )\n",
    "        print(result.markdown)\n",
    "\n",
    "# if __name__ == \"__main__\":\n",
    "#     asyncio.run(main())\n",
    "\n",
    "await main()"
   ]
  },
  {
   "cell_type": "code",
   "execution_count": null,
   "metadata": {},
   "outputs": [],
   "source": [
    "import asyncio\n",
    "from typing import List\n",
    "import requests\n",
    "from xml.etree import ElementTree\n",
    "\n",
    "\n",
    "def get_pydantic_ai_docs_urls():\n",
    "    \"\"\"\n",
    "    Fetches all URLs from the Pydantic AI documentation.\n",
    "    Uses the sitemap (https://ai.pydantic.dev/sitemap.xml) to get these URLs.\n",
    "    \n",
    "    Returns:\n",
    "        List[str]: List of URLs\n",
    "    \"\"\"            \n",
    "    sitemap_url = \"https://ai.pydantic.dev/sitemap.xml\"\n",
    "    try:\n",
    "        response = requests.get(sitemap_url)\n",
    "        response.raise_for_status()\n",
    "        \n",
    "        # Parse the XML\n",
    "        root = ElementTree.fromstring(response.content)\n",
    "        \n",
    "        # Extract all URLs from the sitemap\n",
    "        # The namespace is usually defined in the root element\n",
    "        namespace = {'ns': 'http://www.sitemaps.org/schemas/sitemap/0.9'}\n",
    "        urls = [loc.text for loc in root.findall('.//ns:loc', namespace)]\n",
    "        \n",
    "        return urls\n",
    "    except Exception as e:\n",
    "        print(f\"Error fetching sitemap: {e}\")\n",
    "        return []\n",
    "\n",
    "\n",
    "get_pydantic_ai_docs_urls()"
   ]
  },
  {
   "cell_type": "code",
   "execution_count": null,
   "metadata": {},
   "outputs": [],
   "source": []
  }
 ],
 "metadata": {
  "kernelspec": {
   "display_name": "venv",
   "language": "python",
   "name": "python3"
  },
  "language_info": {
   "codemirror_mode": {
    "name": "ipython",
    "version": 3
   },
   "file_extension": ".py",
   "mimetype": "text/x-python",
   "name": "python",
   "nbconvert_exporter": "python",
   "pygments_lexer": "ipython3",
   "version": "3.12.1"
  }
 },
 "nbformat": 4,
 "nbformat_minor": 2
}
